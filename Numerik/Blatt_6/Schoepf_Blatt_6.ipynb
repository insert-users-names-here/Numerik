{
 "cells": [
  {
   "cell_type": "markdown",
   "metadata": {},
   "source": [
    "Aufgabe 1\n",
    "=========\n",
    "\n",
    "\n",
    "Implementieren Sie die iterierte Mittelpunktsregel, um das Integral einer Funktion f : [a, b] × [c, d] → R zu approximieren. Berechnen Sie damit folgendes Doppelintegral \n",
    "\n",
    "\\begin{align*}\n",
    "    \\int _0^1 \\left(\\int_0^\\pi x^3cos(x^2y)dy\\right)dx\n",
    "\\end{align*}\n",
    "\n",
    "Hinweis: Fassen Sie das innere Integral als Funktion der äußeren Integrationsvariable auf\n",
    "\\begin{align*}\n",
    "    g(x) = \\int _c^d f(x,y)dy\n",
    "\\end{align*}\n",
    "und verwenden Sie das Konzept der lambda Funktion.\n",
    "\n",
    "Es gilt die Approximation:\n",
    "\n",
    "\\begin{align*}\n",
    "    \\iint_B f(x,y)d(x,y)\\approx \\sum_{j=0}^{N-1} h_j \\sum_{i=1}^s b_i \\sum_{\\mu = 0}^{M(i,j)-1} k_\\mu \\sum_{\\nu = 1}^{\\~s} \\~b_\\nu f(x_j +c_ih_j,y_\\mu+\\~c_\\nu k_\\mu)\n",
    "\\end{align*}\n",
    "\n",
    "Für die Mittelpunktsregel gilt hierbei $s= \\~s = 1$ und $b=\\~b=1$ sowie $c = \\~c = 0.5$ also\n",
    "\n",
    "\\begin{align*}\n",
    "    \\iint_B f(x,y)d(x,y)\\approx \\sum_{j=0}^{N-1} h_j \\sum_{\\mu = 0}^{M(j)-1} k_\\mu f(x_j +0.5 h_j,y_\\mu+0.5 k_\\mu)\n",
    "\\end{align*}"
   ]
  },
  {
   "cell_type": "code",
   "execution_count": 7,
   "metadata": {},
   "outputs": [
    {
     "data": {
      "text/plain": [
       "0.31833996220988586"
      ]
     },
     "execution_count": 7,
     "metadata": {},
     "output_type": "execute_result"
    }
   ],
   "source": [
    "import numpy as np \n",
    "\n",
    "def quad_it_mid(f, a, b, c, d, N, M):\n",
    "    \n",
    "    # Schrittweite\n",
    "    h = (b-a)/N     \n",
    "    k = (d-c)/M\n",
    "    \n",
    "    # Summe einführen\n",
    "    sum = 0\n",
    "    for j in range(N):\n",
    "        # x_j bestimmen\n",
    "        x_j = a + (j + 0.5)*h\n",
    "        \n",
    "        # Summe für die innere Funktion einführen\n",
    "        g_x = 0\n",
    "        # für jedes x_j über y_mu iterieren\n",
    "        for mu in range(M):\n",
    "            # y_mu bestimmen\n",
    "            y_mu = c + (mu + 0.5) * k\n",
    "\n",
    "            # g_x Werte mit k multiplizieren und summieren\n",
    "            g_x += f(x_j,y_mu) * k \n",
    "        #Gesamtsumme ausrechnen\n",
    "        sum += g_x * h\n",
    "    return sum\n",
    "\n",
    "f = lambda x, y: (x**3)*np.cos((x**2)*y)\n",
    "\n",
    "quad_it_mid(f, 0, 1, 0, np.pi, 100, 100)"
   ]
  },
  {
   "cell_type": "markdown",
   "metadata": {},
   "source": [
    "Aufgabe 2\n",
    "===========\n",
    "\n",
    " Versuchen Sie folgende Eingaben in Python und erklären Sie die Ergebnisse:  \n",
    "<!--\n",
    "(a) \n",
    ">(1.0+0.001)-1.0 == 0.001\n",
    "\n",
    "(b)\n",
    "> sum = 0  \n",
    "> for i in range(1000):  \n",
    ">   sum += 1.0/1000  \n",
    ">  sum == 1.0  \n",
    "\n",
    "(c) \n",
    ">1e-20 + 1.0 == 1.0\n",
    "\n",
    "(d) \n",
    ">a = 0.75 + 1e-16  \n",
    ">b = 0.75  \n",
    ">c = 0.50  \n",
    ">d = 0.50 - 1e-16  \n",
    "\n",
    ">print(a>b)  \n",
    ">print(c>d)  \n",
    ">print(a+c>b+d)  --> \n"
   ]
  },
  {
   "cell_type": "code",
   "execution_count": 8,
   "metadata": {},
   "outputs": [
    {
     "name": "stdout",
     "output_type": "stream",
     "text": [
      "False\n",
      "0.0009999999999998899\n"
     ]
    }
   ],
   "source": [
    "# (a) \n",
    "print((1.0+0.001)-1.0 == 0.001)\n",
    "\n",
    "print((1.0+0.001)-1.0)\n",
    "\n",
    "# Aufgrund der Verwendung der Gleitkommazahlen und der relativen Maschinengenauigkeit wird die Float als 0.0009... gespeichert und ist somit nicht mehr \n",
    "# dasselbe wie 0.001"
   ]
  },
  {
   "cell_type": "code",
   "execution_count": 9,
   "metadata": {},
   "outputs": [
    {
     "name": "stdout",
     "output_type": "stream",
     "text": [
      "False\n"
     ]
    }
   ],
   "source": [
    "# (b)\n",
    "sum = 0  \n",
    "for i in range(1000):  \n",
    "    sum += 1.0/1000  \n",
    "print(sum == 1.0)  \n",
    "\n",
    "# der Rundungsfehler der durch die Floats und somit kleinen schritte entsteht wird aufsummiert und liefert somit wieder nicht das richtige ergebnis"
   ]
  },
  {
   "cell_type": "code",
   "execution_count": 10,
   "metadata": {},
   "outputs": [
    {
     "name": "stdout",
     "output_type": "stream",
     "text": [
      "True\n",
      "1.0\n"
     ]
    }
   ],
   "source": [
    "# (c)\n",
    "\n",
    "print(1e-20 + 1.0 == 1.0)\n",
    "print(1e-20 + 1.0)\n",
    "\n",
    "# 1e-20 ist bereits weit unterhalb der maschinengenauigkeit und deshalb nicht mehr darstellbar  und somit irrelevant\n"
   ]
  },
  {
   "cell_type": "code",
   "execution_count": 11,
   "metadata": {},
   "outputs": [
    {
     "name": "stdout",
     "output_type": "stream",
     "text": [
      "True\n",
      "True\n",
      "False\n",
      "False\n",
      "False\n",
      "False\n"
     ]
    }
   ],
   "source": [
    "# (d)\n",
    "\n",
    "a = 0.75 + 1e-16\n",
    "b = 0.75\n",
    "c = 0.50\n",
    "d = 0.50 - 1e-16\n",
    "print(a>b)\n",
    "print(c>d)\n",
    "print(a+c>b+d)\n",
    "\n",
    "\n",
    "a = 0.75 + 1e-17\n",
    "b = 0.75\n",
    "c = 0.50\n",
    "d = 0.50 - 1e-17\n",
    "print(a>b)\n",
    "print(c>d)\n",
    "print(a+c>b+d)\n",
    "\n",
    "# e-16 ist gerade noch im bereich der maschinengenauigkeit weshalb sie noch als größer oder kleiner interpretiert werden können. \n",
    "# 1e-17 ist dies bereits nicht mehr der Fall und geht quasi unter"
   ]
  },
  {
   "cell_type": "code",
   "execution_count": null,
   "metadata": {},
   "outputs": [
    {
     "data": {
      "image/png": "[encoded data removed]",
      "text/plain": [
       "<Figure size 1000x200 with 1 Axes>"
      ]
     },
     "metadata": {},
     "output_type": "display_data"
    }
   ],
   "source": [
    "\n",
    "import numpy as np \n",
    "import matplotlib.pyplot as plt \n",
    "\n",
    "x_normal = []\n",
    "x_normal.append(0)\n",
    "\n",
    "x_subnormal = []\n",
    "\n",
    "for Vorzeichen in [-1,1]:\n",
    "    for i in np.linspace(-1, 1, 10): #[-1, 0, 1]:  # \n",
    "        for j in [1.00, 1.01, 1.10, 1.11]:\n",
    "            x_j = Vorzeichen * j * 2**(i)\n",
    "            x_normal.append(x_j)\n",
    "\n",
    "for Vorzeichen in [-1,1]:\n",
    "    for k in [0.01, 0.10, 0.11]:\n",
    "        x_k = Vorzeichen*k*2**(-1)\n",
    "        x_subnormal.append(x_k)\n",
    "\n",
    "\n",
    "plt.figure(figsize=(10, 2))\n",
    "plt.plot(x_subnormal, np.zeros_like(x_subnormal), 'o', markersize=7, label = 'subnormal')  \n",
    "plt.plot(x_normal, np.zeros_like(x_normal), 'x', markersize=7, label = 'normal')\n",
    "plt.legend()\n",
    "plt.axhline(0, color='black', linewidth=0.5) \n",
    "plt.yticks([])  \n",
    "\n",
    "\n",
    "plt.show()"
   ]
  }
 ],
 "metadata": {
  "kernelspec": {
   "display_name": "Python 3",
   "language": "python",
   "name": "python3"
  },
  "language_info": {
   "codemirror_mode": {
    "name": "ipython",
    "version": 3
   },
   "file_extension": ".py",
   "mimetype": "text/x-python",
   "name": "python",
   "nbconvert_exporter": "python",
   "pygments_lexer": "ipython3",
   "version": "3.11.9"
  }
 },
 "nbformat": 4,
 "nbformat_minor": 2
}
